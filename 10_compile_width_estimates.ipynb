{
 "cells": [
  {
   "cell_type": "code",
   "execution_count": 1,
   "id": "41d80944",
   "metadata": {},
   "outputs": [],
   "source": [
    "import pandas as pd\n",
    "import numpy as np \n",
    "import rasterio \n",
    "import os\n",
    "from glob import glob \n",
    "from tqdm import tqdm \n",
    "import matplotlib.pyplot as plt \n",
    "from loguru import logger\n"
   ]
  },
  {
   "cell_type": "code",
   "execution_count": 2,
   "id": "3a7a5591",
   "metadata": {},
   "outputs": [
    {
     "data": {
      "text/plain": [
       "(613, 2)"
      ]
     },
     "execution_count": 2,
     "metadata": {},
     "output_type": "execute_result"
    }
   ],
   "source": [
    "sentinel_data_df = pd.read_csv(\"/nas/cee-water/cjgleason/S2_Validation/GLOWS_widths_label_reaches.csv\") # from Dongmei\n",
    "sentinel_data_df[\"reach_id\"] = sentinel_data_df[\"SWORD_reachid\"]\n",
    "sentinel_data_df[\"sentinel_width\"] = sentinel_data_df[\"width\"]\n",
    "sentinel_data_df = sentinel_data_df[[\"reach_id\", \"sentinel_width\"]]\n",
    "sentinel_data_df = sentinel_data_df.groupby(\"reach_id\").mean().reset_index()\n",
    "sentinel_data_df.shape"
   ]
  },
  {
   "cell_type": "code",
   "execution_count": 3,
   "id": "e069aef7",
   "metadata": {},
   "outputs": [
    {
     "data": {
      "text/html": [
       "<div>\n",
       "<style scoped>\n",
       "    .dataframe tbody tr th:only-of-type {\n",
       "        vertical-align: middle;\n",
       "    }\n",
       "\n",
       "    .dataframe tbody tr th {\n",
       "        vertical-align: top;\n",
       "    }\n",
       "\n",
       "    .dataframe thead th {\n",
       "        text-align: right;\n",
       "    }\n",
       "</style>\n",
       "<table border=\"1\" class=\"dataframe\">\n",
       "  <thead>\n",
       "    <tr style=\"text-align: right;\">\n",
       "      <th></th>\n",
       "      <th>reach_id</th>\n",
       "      <th>time_str</th>\n",
       "      <th>width</th>\n",
       "      <th>width_u</th>\n",
       "      <th>sword_version</th>\n",
       "      <th>crid</th>\n",
       "      <th>width_units</th>\n",
       "      <th>width_u_units</th>\n",
       "    </tr>\n",
       "  </thead>\n",
       "  <tbody>\n",
       "    <tr>\n",
       "      <th>0</th>\n",
       "      <td>81280600191</td>\n",
       "      <td>2024-04-06 23:58:59</td>\n",
       "      <td>49.665682</td>\n",
       "      <td>0.274000</td>\n",
       "      <td>16</td>\n",
       "      <td>PIC0</td>\n",
       "      <td>m</td>\n",
       "      <td>m</td>\n",
       "    </tr>\n",
       "    <tr>\n",
       "      <th>1</th>\n",
       "      <td>81280600191</td>\n",
       "      <td>2024-04-17 22:21:50</td>\n",
       "      <td>133.944846</td>\n",
       "      <td>0.961474</td>\n",
       "      <td>16</td>\n",
       "      <td>PIC0</td>\n",
       "      <td>m</td>\n",
       "      <td>m</td>\n",
       "    </tr>\n",
       "    <tr>\n",
       "      <th>2</th>\n",
       "      <td>81280600191</td>\n",
       "      <td>2024-04-26 05:30:45</td>\n",
       "      <td>73.596873</td>\n",
       "      <td>1.051036</td>\n",
       "      <td>16</td>\n",
       "      <td>PIC0</td>\n",
       "      <td>m</td>\n",
       "      <td>m</td>\n",
       "    </tr>\n",
       "    <tr>\n",
       "      <th>3</th>\n",
       "      <td>81280600191</td>\n",
       "      <td>2024-04-27 20:44:05</td>\n",
       "      <td>65.363245</td>\n",
       "      <td>0.472152</td>\n",
       "      <td>16</td>\n",
       "      <td>PIC0</td>\n",
       "      <td>m</td>\n",
       "      <td>m</td>\n",
       "    </tr>\n",
       "    <tr>\n",
       "      <th>4</th>\n",
       "      <td>81280600191</td>\n",
       "      <td>2024-05-06 03:53:00</td>\n",
       "      <td>114.590775</td>\n",
       "      <td>0.583923</td>\n",
       "      <td>16</td>\n",
       "      <td>PIC0</td>\n",
       "      <td>m</td>\n",
       "      <td>m</td>\n",
       "    </tr>\n",
       "    <tr>\n",
       "      <th>...</th>\n",
       "      <td>...</td>\n",
       "      <td>...</td>\n",
       "      <td>...</td>\n",
       "      <td>...</td>\n",
       "      <td>...</td>\n",
       "      <td>...</td>\n",
       "      <td>...</td>\n",
       "      <td>...</td>\n",
       "    </tr>\n",
       "    <tr>\n",
       "      <th>12132</th>\n",
       "      <td>81210500301</td>\n",
       "      <td>2024-10-11 20:26:48</td>\n",
       "      <td>1733.448037</td>\n",
       "      <td>1.483201</td>\n",
       "      <td>16</td>\n",
       "      <td>PIC0</td>\n",
       "      <td>m</td>\n",
       "      <td>m</td>\n",
       "    </tr>\n",
       "    <tr>\n",
       "      <th>12133</th>\n",
       "      <td>81210500301</td>\n",
       "      <td>2024-10-12 05:16:09</td>\n",
       "      <td>3034.486248</td>\n",
       "      <td>5.043505</td>\n",
       "      <td>16</td>\n",
       "      <td>PIC0</td>\n",
       "      <td>m</td>\n",
       "      <td>m</td>\n",
       "    </tr>\n",
       "    <tr>\n",
       "      <th>12134</th>\n",
       "      <td>81210500301</td>\n",
       "      <td>2024-10-12 20:27:29</td>\n",
       "      <td>1778.970395</td>\n",
       "      <td>1.622716</td>\n",
       "      <td>16</td>\n",
       "      <td>PIC0</td>\n",
       "      <td>m</td>\n",
       "      <td>m</td>\n",
       "    </tr>\n",
       "    <tr>\n",
       "      <th>12135</th>\n",
       "      <td>81210500301</td>\n",
       "      <td>2024-10-22 18:49:37</td>\n",
       "      <td>7535.632163</td>\n",
       "      <td>155.486146</td>\n",
       "      <td>16</td>\n",
       "      <td>PIC2</td>\n",
       "      <td>m</td>\n",
       "      <td>m</td>\n",
       "    </tr>\n",
       "    <tr>\n",
       "      <th>12136</th>\n",
       "      <td>81210500301</td>\n",
       "      <td>2024-10-23 03:38:58</td>\n",
       "      <td>1779.586907</td>\n",
       "      <td>2.088793</td>\n",
       "      <td>16</td>\n",
       "      <td>PIC2</td>\n",
       "      <td>m</td>\n",
       "      <td>m</td>\n",
       "    </tr>\n",
       "  </tbody>\n",
       "</table>\n",
       "<p>12137 rows × 8 columns</p>\n",
       "</div>"
      ],
      "text/plain": [
       "          reach_id             time_str        width     width_u  \\\n",
       "0      81280600191  2024-04-06 23:58:59    49.665682    0.274000   \n",
       "1      81280600191  2024-04-17 22:21:50   133.944846    0.961474   \n",
       "2      81280600191  2024-04-26 05:30:45    73.596873    1.051036   \n",
       "3      81280600191  2024-04-27 20:44:05    65.363245    0.472152   \n",
       "4      81280600191  2024-05-06 03:53:00   114.590775    0.583923   \n",
       "...            ...                  ...          ...         ...   \n",
       "12132  81210500301  2024-10-11 20:26:48  1733.448037    1.483201   \n",
       "12133  81210500301  2024-10-12 05:16:09  3034.486248    5.043505   \n",
       "12134  81210500301  2024-10-12 20:27:29  1778.970395    1.622716   \n",
       "12135  81210500301  2024-10-22 18:49:37  7535.632163  155.486146   \n",
       "12136  81210500301  2024-10-23 03:38:58  1779.586907    2.088793   \n",
       "\n",
       "       sword_version  crid width_units width_u_units  \n",
       "0                 16  PIC0           m             m  \n",
       "1                 16  PIC0           m             m  \n",
       "2                 16  PIC0           m             m  \n",
       "3                 16  PIC0           m             m  \n",
       "4                 16  PIC0           m             m  \n",
       "...              ...   ...         ...           ...  \n",
       "12132             16  PIC0           m             m  \n",
       "12133             16  PIC0           m             m  \n",
       "12134             16  PIC0           m             m  \n",
       "12135             16  PIC2           m             m  \n",
       "12136             16  PIC2           m             m  \n",
       "\n",
       "[12137 rows x 8 columns]"
      ]
     },
     "execution_count": 3,
     "metadata": {},
     "output_type": "execute_result"
    }
   ],
   "source": [
    "swot_data = pd.read_csv(\"/nas/cee-water/cjgleason/taylor/YR Unit /Yukonsubsample_20240401_20241031_v16.csv\")\n",
    "swot_data"
   ]
  },
  {
   "cell_type": "code",
   "execution_count": 4,
   "id": "d6ac0a89",
   "metadata": {},
   "outputs": [
    {
     "data": {
      "text/plain": [
       "(250, 2)"
      ]
     },
     "execution_count": 4,
     "metadata": {},
     "output_type": "execute_result"
    }
   ],
   "source": [
    "swot_data = swot_data[swot_data[\"width\"]>0]\n",
    "swot_data[\"reach_id\"].value_counts()\n",
    "\n",
    "\n",
    "swot_widths = swot_data[[\"reach_id\", \"width\"]]\n",
    "swot_widths = swot_widths.groupby(\"reach_id\").mean().reset_index()\n",
    "swot_widths = swot_widths[swot_widths[\"width\"]>0]\n",
    "swot_widths = swot_widths.rename(columns={\"width\": \"swot_width\"})\n",
    "swot_widths.shape"
   ]
  },
  {
   "cell_type": "code",
   "execution_count": 5,
   "id": "80d46890",
   "metadata": {},
   "outputs": [],
   "source": [
    "# swot_data = pd.read_csv(\"/work/pi_smaji_umass_edu/rdaroya/planet-benchmark/swot_widths.csv\")\n",
    "# swot_data"
   ]
  },
  {
   "cell_type": "code",
   "execution_count": 6,
   "id": "272b5d06",
   "metadata": {},
   "outputs": [
    {
     "name": "stderr",
     "output_type": "stream",
     "text": [
      "  0%|          | 0/123 [00:00<?, ?it/s]"
     ]
    },
    {
     "name": "stderr",
     "output_type": "stream",
     "text": [
      "100%|██████████| 123/123 [00:00<00:00, 279.76it/s]"
     ]
    },
    {
     "name": "stdout",
     "output_type": "stream",
     "text": [
      "(12210, 11)\n"
     ]
    },
    {
     "name": "stderr",
     "output_type": "stream",
     "text": [
      "\n"
     ]
    }
   ],
   "source": [
    "all_planet_widths = None\n",
    "for fp in tqdm(glob(os.path.join(\"predicted_widths\", \"*.csv\"))):\n",
    "    tmp = pd.read_csv(fp)\n",
    "    if all_planet_widths is None:\n",
    "        all_planet_widths = tmp\n",
    "    else:\n",
    "        all_planet_widths = pd.concat([all_planet_widths, tmp])\n",
    "print(all_planet_widths.shape)"
   ]
  },
  {
   "cell_type": "code",
   "execution_count": 7,
   "id": "278d525c",
   "metadata": {},
   "outputs": [
    {
     "data": {
      "text/plain": [
       "(321,\n",
       " Index(['reach_id', 'planet_fp', 'cloud_cover', 'pred_raster_fp',\n",
       "        'reach_len_full', 'reach_len_raster_bound', 'reach_len_pred_bound',\n",
       "        'num_water_px', 'perc_water_px', 'water_area', 'sword_width'],\n",
       "       dtype='object'))"
      ]
     },
     "execution_count": 7,
     "metadata": {},
     "output_type": "execute_result"
    }
   ],
   "source": [
    "len(all_planet_widths[\"reach_id\"].unique()), all_planet_widths.columns"
   ]
  },
  {
   "cell_type": "code",
   "execution_count": 8,
   "id": "903abf58",
   "metadata": {},
   "outputs": [
    {
     "name": "stdout",
     "output_type": "stream",
     "text": [
      "320\n",
      "306\n"
     ]
    }
   ],
   "source": [
    "all_planet_widths = all_planet_widths[all_planet_widths[\"cloud_cover\"]<=0.3]\n",
    "print(len(all_planet_widths[\"reach_id\"].unique()))\n",
    "all_planet_widths[\"diff_raster_pred_len\"] = all_planet_widths[\"reach_len_raster_bound\"]-all_planet_widths[\"reach_len_pred_bound\"]\n",
    "all_planet_widths = all_planet_widths[all_planet_widths[\"diff_raster_pred_len\"]<=500]   # only use predictions that have <=500m difference between raster bounds and pred bounds (to filter out super wrong predictions)\n",
    "print(len(all_planet_widths[\"reach_id\"].unique()))"
   ]
  },
  {
   "cell_type": "code",
   "execution_count": 9,
   "id": "1a75559d",
   "metadata": {},
   "outputs": [
    {
     "data": {
      "text/plain": [
       "'/project/pi_cjgleason_umass_edu/swot_planet/unit/81260300091.0/85d31913-2e09-4386-ba10-0811318a31a9/PSScene/20240619_212933_22_2477_3B_AnalyticMS_SR_clip.tif'"
      ]
     },
     "execution_count": 9,
     "metadata": {},
     "output_type": "execute_result"
    }
   ],
   "source": [
    "all_planet_widths[\"planet_fp\"].iloc[0]"
   ]
  },
  {
   "cell_type": "code",
   "execution_count": 10,
   "id": "04945507",
   "metadata": {},
   "outputs": [
    {
     "data": {
      "text/html": [
       "<div>\n",
       "<style scoped>\n",
       "    .dataframe tbody tr th:only-of-type {\n",
       "        vertical-align: middle;\n",
       "    }\n",
       "\n",
       "    .dataframe tbody tr th {\n",
       "        vertical-align: top;\n",
       "    }\n",
       "\n",
       "    .dataframe thead th {\n",
       "        text-align: right;\n",
       "    }\n",
       "</style>\n",
       "<table border=\"1\" class=\"dataframe\">\n",
       "  <thead>\n",
       "    <tr style=\"text-align: right;\">\n",
       "      <th></th>\n",
       "      <th>reach_id</th>\n",
       "      <th>planet_fp</th>\n",
       "      <th>cloud_cover</th>\n",
       "      <th>pred_raster_fp</th>\n",
       "      <th>reach_len_full</th>\n",
       "      <th>reach_len_raster_bound</th>\n",
       "      <th>reach_len_pred_bound</th>\n",
       "      <th>num_water_px</th>\n",
       "      <th>perc_water_px</th>\n",
       "      <th>water_area</th>\n",
       "      <th>sword_width</th>\n",
       "      <th>diff_raster_pred_len</th>\n",
       "    </tr>\n",
       "  </thead>\n",
       "  <tbody>\n",
       "    <tr>\n",
       "      <th>19</th>\n",
       "      <td>81210100041</td>\n",
       "      <td>/project/pi_cjgleason_umass_edu/swot_planet/un...</td>\n",
       "      <td>0.0</td>\n",
       "      <td>tiled_planet_predicted_merged/81210100041.0--2...</td>\n",
       "      <td>16599.78875</td>\n",
       "      <td>16674.526148</td>\n",
       "      <td>16364.440832</td>\n",
       "      <td>3470523</td>\n",
       "      <td>0.141685</td>\n",
       "      <td>31234707</td>\n",
       "      <td>1887.0</td>\n",
       "      <td>310.085316</td>\n",
       "    </tr>\n",
       "  </tbody>\n",
       "</table>\n",
       "</div>"
      ],
      "text/plain": [
       "       reach_id                                          planet_fp  \\\n",
       "19  81210100041  /project/pi_cjgleason_umass_edu/swot_planet/un...   \n",
       "\n",
       "    cloud_cover                                     pred_raster_fp  \\\n",
       "19          0.0  tiled_planet_predicted_merged/81210100041.0--2...   \n",
       "\n",
       "    reach_len_full  reach_len_raster_bound  reach_len_pred_bound  \\\n",
       "19     16599.78875            16674.526148          16364.440832   \n",
       "\n",
       "    num_water_px  perc_water_px  water_area  sword_width  diff_raster_pred_len  \n",
       "19       3470523       0.141685    31234707       1887.0            310.085316  "
      ]
     },
     "execution_count": 10,
     "metadata": {},
     "output_type": "execute_result"
    }
   ],
   "source": [
    "fp = \"81210100041.0--23810af8-d590-44e5-8d82-401a7170e44f--PSScene--20240922_223015_38_24fd_3B_AnalyticMS_SR_clip.tif\"\n",
    "planet_fp = os.path.join(\"/project/pi_cjgleason_umass_edu/swot_planet/unit/\", \"/\".join(fp.split(\"--\")))\n",
    "assert os.path.exists(planet_fp)\n",
    "all_planet_widths[all_planet_widths[\"planet_fp\"]==planet_fp]\n"
   ]
  },
  {
   "cell_type": "code",
   "execution_count": 11,
   "id": "481de427",
   "metadata": {},
   "outputs": [
    {
     "data": {
      "text/plain": [
       "(306, 2)"
      ]
     },
     "execution_count": 11,
     "metadata": {},
     "output_type": "execute_result"
    }
   ],
   "source": [
    "sword_widths = all_planet_widths[[\"reach_id\", \"sword_width\"]]\n",
    "sword_widths = sword_widths.groupby(\"reach_id\").mean().reset_index()\n",
    "sword_widths = sword_widths[sword_widths[\"sword_width\"]>0]\n",
    "sword_widths.shape"
   ]
  },
  {
   "cell_type": "code",
   "execution_count": 12,
   "id": "eaf890c9",
   "metadata": {},
   "outputs": [
    {
     "data": {
      "text/plain": [
       "(306, 4)"
      ]
     },
     "execution_count": 12,
     "metadata": {},
     "output_type": "execute_result"
    }
   ],
   "source": [
    "planet_widths = all_planet_widths[[\"reach_id\", \"water_area\", \"reach_len_pred_bound\"]]\n",
    "planet_widths = planet_widths.groupby(\"reach_id\").sum().reset_index()\n",
    "planet_widths[\"effective_width\"] = planet_widths[\"water_area\"]/planet_widths[\"reach_len_pred_bound\"]\n",
    "planet_widths.shape"
   ]
  },
  {
   "cell_type": "code",
   "execution_count": 13,
   "id": "d5f1ffe0",
   "metadata": {},
   "outputs": [],
   "source": [
    "merged_res = planet_widths.merge(sentinel_data_df, how=\"left\", on=\"reach_id\")\n",
    "merged_res = merged_res.merge(sword_widths, how=\"left\", on=\"reach_id\")\n",
    "merged_res = merged_res.merge(swot_widths, how=\"left\", on=\"reach_id\", suffixes=(\"\",\"_swot\"))"
   ]
  },
  {
   "cell_type": "code",
   "execution_count": 19,
   "id": "e6f011c5",
   "metadata": {},
   "outputs": [
    {
     "name": "stdout",
     "output_type": "stream",
     "text": [
      "(3, 7)\n",
      "(306, 7)\n",
      "(107, 7)\n"
     ]
    }
   ],
   "source": [
    "print(merged_res[merged_res[\"sentinel_width\"]>0].shape)\n",
    "print(merged_res[merged_res[\"sword_width\"]>0].shape)\n",
    "print(merged_res[((merged_res[\"sword_width\"]>0)&(merged_res[\"swot_width\"]>0))].shape)"
   ]
  },
  {
   "cell_type": "code",
   "execution_count": 16,
   "id": "b4f8007d",
   "metadata": {},
   "outputs": [
    {
     "data": {
      "text/html": [
       "<div>\n",
       "<style scoped>\n",
       "    .dataframe tbody tr th:only-of-type {\n",
       "        vertical-align: middle;\n",
       "    }\n",
       "\n",
       "    .dataframe tbody tr th {\n",
       "        vertical-align: top;\n",
       "    }\n",
       "\n",
       "    .dataframe thead th {\n",
       "        text-align: right;\n",
       "    }\n",
       "</style>\n",
       "<table border=\"1\" class=\"dataframe\">\n",
       "  <thead>\n",
       "    <tr style=\"text-align: right;\">\n",
       "      <th></th>\n",
       "      <th>reach_id</th>\n",
       "      <th>effective_width</th>\n",
       "      <th>sentinel_width</th>\n",
       "      <th>sword_width</th>\n",
       "      <th>swot_width</th>\n",
       "    </tr>\n",
       "  </thead>\n",
       "  <tbody>\n",
       "    <tr>\n",
       "      <th>216</th>\n",
       "      <td>81270501211</td>\n",
       "      <td>610.489074</td>\n",
       "      <td>610.509556</td>\n",
       "      <td>573.0</td>\n",
       "      <td>NaN</td>\n",
       "    </tr>\n",
       "    <tr>\n",
       "      <th>228</th>\n",
       "      <td>81280500401</td>\n",
       "      <td>182.476834</td>\n",
       "      <td>262.720204</td>\n",
       "      <td>190.0</td>\n",
       "      <td>NaN</td>\n",
       "    </tr>\n",
       "    <tr>\n",
       "      <th>259</th>\n",
       "      <td>81293000121</td>\n",
       "      <td>626.159260</td>\n",
       "      <td>476.620499</td>\n",
       "      <td>438.0</td>\n",
       "      <td>NaN</td>\n",
       "    </tr>\n",
       "  </tbody>\n",
       "</table>\n",
       "</div>"
      ],
      "text/plain": [
       "        reach_id  effective_width  sentinel_width  sword_width  swot_width\n",
       "216  81270501211       610.489074      610.509556        573.0         NaN\n",
       "228  81280500401       182.476834      262.720204        190.0         NaN\n",
       "259  81293000121       626.159260      476.620499        438.0         NaN"
      ]
     },
     "execution_count": 16,
     "metadata": {},
     "output_type": "execute_result"
    }
   ],
   "source": [
    "merged_res[merged_res[\"sentinel_width\"]>0][[\"reach_id\", \"effective_width\",\t\"sentinel_width\",\t\"sword_width\", \"swot_width\"]]"
   ]
  },
  {
   "cell_type": "code",
   "execution_count": 21,
   "id": "8d2594a5",
   "metadata": {},
   "outputs": [
    {
     "name": "stdout",
     "output_type": "stream",
     "text": [
      "122.10510375561931 46.80916641482111 -84.5692038919577 -0.10060714725052183\n",
      "176.92639196804816 78.11127469072284 64.02336579193329 1.5331425743666138\n"
     ]
    }
   ],
   "source": [
    "EPS=1e-6\n",
    "sword_mae = (merged_res[\"effective_width\"]-merged_res[\"sword_width\"]).abs().mean()\n",
    "sword_median_abs = (merged_res[\"effective_width\"]-merged_res[\"sword_width\"]).abs().median()\n",
    "sword_bias = -(merged_res[\"effective_width\"]-merged_res[\"sword_width\"]).mean()\n",
    "sword_perc_bias = (-(merged_res[\"effective_width\"]-merged_res[\"sword_width\"])/(merged_res[\"effective_width\"]+EPS)).mean()\n",
    "\n",
    "\n",
    "swot_mae = (merged_res[\"effective_width\"]-merged_res[\"swot_width\"]).abs().mean()\n",
    "swot_median_abs = (merged_res[\"effective_width\"]-merged_res[\"swot_width\"]).abs().median()\n",
    "swot_bias = -(merged_res[\"effective_width\"]-merged_res[\"swot_width\"]).mean()\n",
    "swot_perc_bias = (-(merged_res[\"effective_width\"]-merged_res[\"swot_width\"])/(merged_res[\"effective_width\"]+EPS)).mean()\n",
    "\n",
    "print(sword_mae, sword_median_abs, sword_bias, sword_perc_bias)\n",
    "print(swot_mae, swot_median_abs, swot_bias, swot_perc_bias)"
   ]
  },
  {
   "cell_type": "code",
   "execution_count": 22,
   "id": "54da3ba5",
   "metadata": {},
   "outputs": [
    {
     "name": "stdout",
     "output_type": "stream",
     "text": [
      "114.40068512956637 42.460603313928374 -76.67902241133112 -0.020930340602853016\n",
      "176.92639196804816 78.11127469072284 64.02336579193329 1.5331425743666143\n"
     ]
    }
   ],
   "source": [
    "EPS=1e-6\n",
    "\n",
    "# filter results to those that have SWORD and SWOT widths\n",
    "filtered_res = merged_res[((merged_res[\"sword_width\"]>0)&(merged_res[\"swot_width\"]>0))]\n",
    "\n",
    "sword_mae = (filtered_res[\"effective_width\"]-filtered_res[\"sword_width\"]).abs().mean()\n",
    "sword_median_abs = (filtered_res[\"effective_width\"]-filtered_res[\"sword_width\"]).abs().median()\n",
    "sword_bias = -(filtered_res[\"effective_width\"]-filtered_res[\"sword_width\"]).mean()\n",
    "sword_perc_bias = (-(filtered_res[\"effective_width\"]-filtered_res[\"sword_width\"])/(filtered_res[\"effective_width\"]+EPS)).mean()\n",
    "\n",
    "\n",
    "swot_mae = (filtered_res[\"effective_width\"]-filtered_res[\"swot_width\"]).abs().mean()\n",
    "swot_median_abs = (filtered_res[\"effective_width\"]-filtered_res[\"swot_width\"]).abs().median()\n",
    "swot_bias = -(filtered_res[\"effective_width\"]-filtered_res[\"swot_width\"]).mean()\n",
    "swot_perc_bias = (-(filtered_res[\"effective_width\"]-filtered_res[\"swot_width\"])/(filtered_res[\"effective_width\"]+EPS)).mean()\n",
    "\n",
    "print(sword_mae, sword_median_abs, sword_bias, sword_perc_bias)\n",
    "print(swot_mae, swot_median_abs, swot_bias, swot_perc_bias)"
   ]
  },
  {
   "cell_type": "code",
   "execution_count": 24,
   "id": "a8e30c96",
   "metadata": {},
   "outputs": [
    {
     "data": {
      "text/plain": [
       "(107, 7)"
      ]
     },
     "execution_count": 24,
     "metadata": {},
     "output_type": "execute_result"
    }
   ],
   "source": [
    "filtered_res.shape"
   ]
  },
  {
   "cell_type": "code",
   "execution_count": 27,
   "id": "a08a5011",
   "metadata": {},
   "outputs": [
    {
     "data": {
      "image/png": "[encoded data removed]",
      "text/plain": [
       "<Figure size 800x400 with 2 Axes>"
      ]
     },
     "metadata": {},
     "output_type": "display_data"
    }
   ],
   "source": [
    "import numpy as np\n",
    "import matplotlib.pyplot as plt\n",
    "\n",
    "# ------------------------------------\n",
    "# Configuration ‒ tweak as you like\n",
    "x_columns = ['sword_width',\"swot_width\"]          # x-axis columns (left➜right)\n",
    "y_column  = 'effective_width'        # shared y-axis\n",
    "colors    = ['tab:blue', 'tab:orange', 'tab:green', 'tab:red']\n",
    "figsize   = (4*len(x_columns), 4)\n",
    "alpha_pts = 0.7                      # scatter opacity\n",
    "line_kw   = dict(color='black', ls='--', lw=1)  # y=x line style\n",
    "# ------------------------------------\n",
    "\n",
    "# Ensure data is in good shape (adjust if you want to keep NaNs)\n",
    "data = merged_res.dropna(subset=x_columns + [y_column])\n",
    "\n",
    "fig, axes = plt.subplots(1, len(x_columns), figsize=figsize, sharey=True)\n",
    "\n",
    "for ax, x_col, c in zip(axes, x_columns, colors):\n",
    "    # scatter points\n",
    "    ax.scatter(data[x_col], data[y_column], alpha=alpha_pts, color=c)\n",
    "    \n",
    "    # y = x reference line\n",
    "    vmin = min(data[[x_col, y_column]].min())\n",
    "    vmax = max(data[[x_col, y_column]].max())\n",
    "    ax.plot([vmin, 2500], [vmin, 2500], **line_kw)\n",
    "    # ax.set_xlim(vmin, vmax)\n",
    "    # ax.set_ylim(vmin, vmax)\n",
    "    # ax.set_xlim(0, 500)\n",
    "    # ax.set_ylim(0, 500)\n",
    "\n",
    "    # labels & title\n",
    "    ax.set_xlabel(x_col.replace('_', ' ')+\" (m)\", fontsize=15)\n",
    "    # ax.set_title(f'{x_col} vs {y_column}', fontsize=20)\n",
    "    ax.set_aspect('equal', adjustable='box')   # keeps squares looking square\n",
    "\n",
    "# axes[0].set_ylabel(y_column.replace('_', ' ').title(), fontsize=20)\n",
    "axes[0].set_ylabel(\"Planet Pred Width (m)\", fontsize=15)\n",
    "# fig.tight_layout()\n",
    "fig.tight_layout(rect=[0, 0.05, 1, 1])\n",
    "plt.show()\n"
   ]
  },
  {
   "cell_type": "code",
   "execution_count": null,
   "id": "0e0df47b",
   "metadata": {},
   "outputs": [],
   "source": []
  }
 ],
 "metadata": {
  "kernelspec": {
   "display_name": "ann-ssc",
   "language": "python",
   "name": "python3"
  },
  "language_info": {
   "codemirror_mode": {
    "name": "ipython",
    "version": 3
   },
   "file_extension": ".py",
   "mimetype": "text/x-python",
   "name": "python",
   "nbconvert_exporter": "python",
   "pygments_lexer": "ipython3",
   "version": "3.9.18"
  }
 },
 "nbformat": 4,
 "nbformat_minor": 5
}

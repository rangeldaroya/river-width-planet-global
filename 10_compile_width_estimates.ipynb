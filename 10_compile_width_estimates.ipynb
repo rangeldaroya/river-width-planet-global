{
 "cells": [
  {
   "cell_type": "code",
   "execution_count": 1,
   "id": "41d80944",
   "metadata": {},
   "outputs": [],
   "source": [
    "import pandas as pd\n",
    "import numpy as np \n",
    "import rasterio \n",
    "import os\n",
    "from glob import glob \n",
    "from tqdm import tqdm \n",
    "import matplotlib.pyplot as plt \n",
    "from loguru import logger\n"
   ]
  },
  {
   "cell_type": "code",
   "execution_count": 2,
   "id": "3a7a5591",
   "metadata": {},
   "outputs": [
    {
     "data": {
      "text/plain": [
       "(613, 2)"
      ]
     },
     "execution_count": 2,
     "metadata": {},
     "output_type": "execute_result"
    }
   ],
   "source": [
    "sentinel_data_df = pd.read_csv(\"/nas/cee-water/cjgleason/S2_Validation/GLOWS_widths_label_reaches.csv\") # from Dongmei\n",
    "sentinel_data_df[\"reach_id\"] = sentinel_data_df[\"SWORD_reachid\"]\n",
    "sentinel_data_df[\"sentinel_width\"] = sentinel_data_df[\"width\"]\n",
    "sentinel_data_df = sentinel_data_df[[\"reach_id\", \"sentinel_width\"]]\n",
    "sentinel_data_df = sentinel_data_df.groupby(\"reach_id\").mean().reset_index()\n",
    "sentinel_data_df.shape"
   ]
  },
  {
   "cell_type": "code",
   "execution_count": 16,
   "id": "80d46890",
   "metadata": {},
   "outputs": [
    {
     "data": {
      "text/html": [
       "<div>\n",
       "<style scoped>\n",
       "    .dataframe tbody tr th:only-of-type {\n",
       "        vertical-align: middle;\n",
       "    }\n",
       "\n",
       "    .dataframe tbody tr th {\n",
       "        vertical-align: top;\n",
       "    }\n",
       "\n",
       "    .dataframe thead th {\n",
       "        text-align: right;\n",
       "    }\n",
       "</style>\n",
       "<table border=\"1\" class=\"dataframe\">\n",
       "  <thead>\n",
       "    <tr style=\"text-align: right;\">\n",
       "      <th></th>\n",
       "      <th>reach_id</th>\n",
       "      <th>planet_fp</th>\n",
       "      <th>image_id_s2</th>\n",
       "      <th>time_s2</th>\n",
       "      <th>swot_name</th>\n",
       "      <th>swot_width</th>\n",
       "      <th>river_name</th>\n",
       "    </tr>\n",
       "  </thead>\n",
       "  <tbody>\n",
       "    <tr>\n",
       "      <th>0</th>\n",
       "      <td>25240000051</td>\n",
       "      <td>/nas/cee-water/cjgleason/S2_Validation/Planet_...</td>\n",
       "      <td>20230623T094031_20230623T094034_T36WVB</td>\n",
       "      <td>2023-06-23 13:49:56</td>\n",
       "      <td>SWOT_L2_HR_RiverSP_Reach_561_012_EU_20230623T1...</td>\n",
       "      <td>3.533266e+01</td>\n",
       "      <td>Kola</td>\n",
       "    </tr>\n",
       "    <tr>\n",
       "      <th>1</th>\n",
       "      <td>25240000051</td>\n",
       "      <td>/nas/cee-water/cjgleason/S2_Validation/Planet_...</td>\n",
       "      <td>20230614T095559_20230614T095738_T36WVB</td>\n",
       "      <td>2023-06-14 11:30:03</td>\n",
       "      <td>SWOT_L2_HR_RiverSP_Reach_552_012_EU_20230614T1...</td>\n",
       "      <td>5.983363e+01</td>\n",
       "      <td>Kola</td>\n",
       "    </tr>\n",
       "    <tr>\n",
       "      <th>2</th>\n",
       "      <td>25240000051</td>\n",
       "      <td>/nas/cee-water/cjgleason/S2_Validation/Planet_...</td>\n",
       "      <td>20240607T094041_20240607T094036_T36WVB</td>\n",
       "      <td>2024-06-07 12:33:52</td>\n",
       "      <td>SWOT_L2_HR_RiverSP_Reach_016_251_EU_20240607T0...</td>\n",
       "      <td>1.402664e+02</td>\n",
       "      <td>Kola</td>\n",
       "    </tr>\n",
       "    <tr>\n",
       "      <th>3</th>\n",
       "      <td>25240000051</td>\n",
       "      <td>/nas/cee-water/cjgleason/S2_Validation/Planet_...</td>\n",
       "      <td>20240607T094041_20240607T094036_T36WVB</td>\n",
       "      <td>2024-06-07 12:33:52</td>\n",
       "      <td>SWOT_L2_HR_RiverSP_Reach_016_251_EU_20240607T0...</td>\n",
       "      <td>1.402664e+02</td>\n",
       "      <td>Kola</td>\n",
       "    </tr>\n",
       "    <tr>\n",
       "      <th>4</th>\n",
       "      <td>25240000051</td>\n",
       "      <td>/nas/cee-water/cjgleason/S2_Validation/Planet_...</td>\n",
       "      <td>20240607T094041_20240607T094036_T36WVB</td>\n",
       "      <td>2024-06-07 12:33:52</td>\n",
       "      <td>SWOT_L2_HR_RiverSP_Reach_016_251_EU_20240607T0...</td>\n",
       "      <td>1.402664e+02</td>\n",
       "      <td>Kola</td>\n",
       "    </tr>\n",
       "    <tr>\n",
       "      <th>...</th>\n",
       "      <td>...</td>\n",
       "      <td>...</td>\n",
       "      <td>...</td>\n",
       "      <td>...</td>\n",
       "      <td>...</td>\n",
       "      <td>...</td>\n",
       "      <td>...</td>\n",
       "    </tr>\n",
       "    <tr>\n",
       "      <th>1140</th>\n",
       "      <td>22733000093</td>\n",
       "      <td>/nas/cee-water/cjgleason/S2_Validation/Planet_...</td>\n",
       "      <td>20230624T090601_20230624T091055_T35TMJ</td>\n",
       "      <td>2023-06-24 13:44:57</td>\n",
       "      <td>SWOT_L2_HR_RiverSP_Reach_562_014_EU_20230624T1...</td>\n",
       "      <td>-1.000000e+12</td>\n",
       "      <td>no_data</td>\n",
       "    </tr>\n",
       "    <tr>\n",
       "      <th>1141</th>\n",
       "      <td>22513000063</td>\n",
       "      <td>/nas/cee-water/cjgleason/S2_Validation/Planet_...</td>\n",
       "      <td>20230610T083609_20230610T083626_T36UWV</td>\n",
       "      <td>2023-06-10 10:14:26</td>\n",
       "      <td>SWOT_L2_HR_RiverSP_Reach_548_001_EU_20230610T1...</td>\n",
       "      <td>-1.000000e+12</td>\n",
       "      <td>no_data</td>\n",
       "    </tr>\n",
       "    <tr>\n",
       "      <th>1142</th>\n",
       "      <td>22513000063</td>\n",
       "      <td>/nas/cee-water/cjgleason/S2_Validation/Planet_...</td>\n",
       "      <td>20230620T083609_20230620T083617_T36UWV</td>\n",
       "      <td>2023-06-20 10:10:13</td>\n",
       "      <td>SWOT_L2_HR_RiverSP_Reach_558_001_EU_20230620T0...</td>\n",
       "      <td>-1.000000e+12</td>\n",
       "      <td>no_data</td>\n",
       "    </tr>\n",
       "    <tr>\n",
       "      <th>1143</th>\n",
       "      <td>22513000063</td>\n",
       "      <td>/nas/cee-water/cjgleason/S2_Validation/Planet_...</td>\n",
       "      <td>20230618T084601_20230618T085217_T36UWV</td>\n",
       "      <td>2023-06-18 15:16:02</td>\n",
       "      <td>SWOT_L2_HR_RiverSP_Reach_556_001_EU_20230618T0...</td>\n",
       "      <td>-1.000000e+12</td>\n",
       "      <td>no_data</td>\n",
       "    </tr>\n",
       "    <tr>\n",
       "      <th>1144</th>\n",
       "      <td>18170800111</td>\n",
       "      <td>/nas/cee-water/cjgleason/S2_Validation/Planet_...</td>\n",
       "      <td>20230622T071211_20230622T071211_T38KPG</td>\n",
       "      <td>2023-06-22 10:04:56</td>\n",
       "      <td>SWOT_L2_HR_RiverSP_Reach_559_027_AF_20230622T0...</td>\n",
       "      <td>2.111470e+02</td>\n",
       "      <td>Mahavavy du Sud</td>\n",
       "    </tr>\n",
       "  </tbody>\n",
       "</table>\n",
       "<p>1145 rows × 7 columns</p>\n",
       "</div>"
      ],
      "text/plain": [
       "         reach_id                                          planet_fp  \\\n",
       "0     25240000051  /nas/cee-water/cjgleason/S2_Validation/Planet_...   \n",
       "1     25240000051  /nas/cee-water/cjgleason/S2_Validation/Planet_...   \n",
       "2     25240000051  /nas/cee-water/cjgleason/S2_Validation/Planet_...   \n",
       "3     25240000051  /nas/cee-water/cjgleason/S2_Validation/Planet_...   \n",
       "4     25240000051  /nas/cee-water/cjgleason/S2_Validation/Planet_...   \n",
       "...           ...                                                ...   \n",
       "1140  22733000093  /nas/cee-water/cjgleason/S2_Validation/Planet_...   \n",
       "1141  22513000063  /nas/cee-water/cjgleason/S2_Validation/Planet_...   \n",
       "1142  22513000063  /nas/cee-water/cjgleason/S2_Validation/Planet_...   \n",
       "1143  22513000063  /nas/cee-water/cjgleason/S2_Validation/Planet_...   \n",
       "1144  18170800111  /nas/cee-water/cjgleason/S2_Validation/Planet_...   \n",
       "\n",
       "                                 image_id_s2              time_s2  \\\n",
       "0     20230623T094031_20230623T094034_T36WVB  2023-06-23 13:49:56   \n",
       "1     20230614T095559_20230614T095738_T36WVB  2023-06-14 11:30:03   \n",
       "2     20240607T094041_20240607T094036_T36WVB  2024-06-07 12:33:52   \n",
       "3     20240607T094041_20240607T094036_T36WVB  2024-06-07 12:33:52   \n",
       "4     20240607T094041_20240607T094036_T36WVB  2024-06-07 12:33:52   \n",
       "...                                      ...                  ...   \n",
       "1140  20230624T090601_20230624T091055_T35TMJ  2023-06-24 13:44:57   \n",
       "1141  20230610T083609_20230610T083626_T36UWV  2023-06-10 10:14:26   \n",
       "1142  20230620T083609_20230620T083617_T36UWV  2023-06-20 10:10:13   \n",
       "1143  20230618T084601_20230618T085217_T36UWV  2023-06-18 15:16:02   \n",
       "1144  20230622T071211_20230622T071211_T38KPG  2023-06-22 10:04:56   \n",
       "\n",
       "                                              swot_name    swot_width  \\\n",
       "0     SWOT_L2_HR_RiverSP_Reach_561_012_EU_20230623T1...  3.533266e+01   \n",
       "1     SWOT_L2_HR_RiverSP_Reach_552_012_EU_20230614T1...  5.983363e+01   \n",
       "2     SWOT_L2_HR_RiverSP_Reach_016_251_EU_20240607T0...  1.402664e+02   \n",
       "3     SWOT_L2_HR_RiverSP_Reach_016_251_EU_20240607T0...  1.402664e+02   \n",
       "4     SWOT_L2_HR_RiverSP_Reach_016_251_EU_20240607T0...  1.402664e+02   \n",
       "...                                                 ...           ...   \n",
       "1140  SWOT_L2_HR_RiverSP_Reach_562_014_EU_20230624T1... -1.000000e+12   \n",
       "1141  SWOT_L2_HR_RiverSP_Reach_548_001_EU_20230610T1... -1.000000e+12   \n",
       "1142  SWOT_L2_HR_RiverSP_Reach_558_001_EU_20230620T0... -1.000000e+12   \n",
       "1143  SWOT_L2_HR_RiverSP_Reach_556_001_EU_20230618T0... -1.000000e+12   \n",
       "1144  SWOT_L2_HR_RiverSP_Reach_559_027_AF_20230622T0...  2.111470e+02   \n",
       "\n",
       "           river_name  \n",
       "0                Kola  \n",
       "1                Kola  \n",
       "2                Kola  \n",
       "3                Kola  \n",
       "4                Kola  \n",
       "...               ...  \n",
       "1140          no_data  \n",
       "1141          no_data  \n",
       "1142          no_data  \n",
       "1143          no_data  \n",
       "1144  Mahavavy du Sud  \n",
       "\n",
       "[1145 rows x 7 columns]"
      ]
     },
     "execution_count": 16,
     "metadata": {},
     "output_type": "execute_result"
    }
   ],
   "source": [
    "swot_data = pd.read_csv(\"/work/pi_smaji_umass_edu/rdaroya/planet-benchmark/swot_widths.csv\")\n",
    "swot_data"
   ]
  },
  {
   "cell_type": "code",
   "execution_count": 3,
   "id": "272b5d06",
   "metadata": {},
   "outputs": [
    {
     "name": "stderr",
     "output_type": "stream",
     "text": [
      "  0%|          | 0/123 [00:00<?, ?it/s]"
     ]
    },
    {
     "name": "stderr",
     "output_type": "stream",
     "text": [
      "100%|██████████| 123/123 [00:00<00:00, 259.21it/s]"
     ]
    },
    {
     "name": "stdout",
     "output_type": "stream",
     "text": [
      "(12210, 11)\n"
     ]
    },
    {
     "name": "stderr",
     "output_type": "stream",
     "text": [
      "\n"
     ]
    }
   ],
   "source": [
    "all_planet_widths = None\n",
    "for fp in tqdm(glob(os.path.join(\"predicted_widths\", \"*.csv\"))):\n",
    "    tmp = pd.read_csv(fp)\n",
    "    if all_planet_widths is None:\n",
    "        all_planet_widths = tmp\n",
    "    else:\n",
    "        all_planet_widths = pd.concat([all_planet_widths, tmp])\n",
    "print(all_planet_widths.shape)"
   ]
  },
  {
   "cell_type": "code",
   "execution_count": 4,
   "id": "278d525c",
   "metadata": {},
   "outputs": [
    {
     "data": {
      "text/plain": [
       "(321,\n",
       " Index(['reach_id', 'planet_fp', 'cloud_cover', 'pred_raster_fp',\n",
       "        'reach_len_full', 'reach_len_raster_bound', 'reach_len_pred_bound',\n",
       "        'num_water_px', 'perc_water_px', 'water_area', 'sword_width'],\n",
       "       dtype='object'))"
      ]
     },
     "execution_count": 4,
     "metadata": {},
     "output_type": "execute_result"
    }
   ],
   "source": [
    "len(all_planet_widths[\"reach_id\"].unique()), all_planet_widths.columns"
   ]
  },
  {
   "cell_type": "code",
   "execution_count": 5,
   "id": "903abf58",
   "metadata": {},
   "outputs": [
    {
     "name": "stdout",
     "output_type": "stream",
     "text": [
      "320\n",
      "306\n"
     ]
    }
   ],
   "source": [
    "all_planet_widths = all_planet_widths[all_planet_widths[\"cloud_cover\"]<=0.3]\n",
    "print(len(all_planet_widths[\"reach_id\"].unique()))\n",
    "all_planet_widths[\"diff_raster_pred_len\"] = all_planet_widths[\"reach_len_raster_bound\"]-all_planet_widths[\"reach_len_pred_bound\"]\n",
    "all_planet_widths = all_planet_widths[all_planet_widths[\"diff_raster_pred_len\"]<=500]   # only use predictions that have <=500m difference between raster bounds and pred bounds (to filter out super wrong predictions)\n",
    "print(len(all_planet_widths[\"reach_id\"].unique()))"
   ]
  },
  {
   "cell_type": "code",
   "execution_count": 6,
   "id": "1a75559d",
   "metadata": {},
   "outputs": [
    {
     "data": {
      "text/plain": [
       "'/project/pi_cjgleason_umass_edu/swot_planet/unit/81260300091.0/85d31913-2e09-4386-ba10-0811318a31a9/PSScene/20240619_212933_22_2477_3B_AnalyticMS_SR_clip.tif'"
      ]
     },
     "execution_count": 6,
     "metadata": {},
     "output_type": "execute_result"
    }
   ],
   "source": [
    "all_planet_widths[\"planet_fp\"].iloc[0]"
   ]
  },
  {
   "cell_type": "code",
   "execution_count": 7,
   "id": "04945507",
   "metadata": {},
   "outputs": [
    {
     "data": {
      "text/html": [
       "<div>\n",
       "<style scoped>\n",
       "    .dataframe tbody tr th:only-of-type {\n",
       "        vertical-align: middle;\n",
       "    }\n",
       "\n",
       "    .dataframe tbody tr th {\n",
       "        vertical-align: top;\n",
       "    }\n",
       "\n",
       "    .dataframe thead th {\n",
       "        text-align: right;\n",
       "    }\n",
       "</style>\n",
       "<table border=\"1\" class=\"dataframe\">\n",
       "  <thead>\n",
       "    <tr style=\"text-align: right;\">\n",
       "      <th></th>\n",
       "      <th>reach_id</th>\n",
       "      <th>planet_fp</th>\n",
       "      <th>cloud_cover</th>\n",
       "      <th>pred_raster_fp</th>\n",
       "      <th>reach_len_full</th>\n",
       "      <th>reach_len_raster_bound</th>\n",
       "      <th>reach_len_pred_bound</th>\n",
       "      <th>num_water_px</th>\n",
       "      <th>perc_water_px</th>\n",
       "      <th>water_area</th>\n",
       "      <th>sword_width</th>\n",
       "      <th>diff_raster_pred_len</th>\n",
       "    </tr>\n",
       "  </thead>\n",
       "  <tbody>\n",
       "    <tr>\n",
       "      <th>19</th>\n",
       "      <td>81210100041</td>\n",
       "      <td>/project/pi_cjgleason_umass_edu/swot_planet/un...</td>\n",
       "      <td>0.0</td>\n",
       "      <td>tiled_planet_predicted_merged/81210100041.0--2...</td>\n",
       "      <td>16599.78875</td>\n",
       "      <td>16674.526148</td>\n",
       "      <td>16364.440832</td>\n",
       "      <td>3470523</td>\n",
       "      <td>0.141685</td>\n",
       "      <td>31234707</td>\n",
       "      <td>1887.0</td>\n",
       "      <td>310.085316</td>\n",
       "    </tr>\n",
       "  </tbody>\n",
       "</table>\n",
       "</div>"
      ],
      "text/plain": [
       "       reach_id                                          planet_fp  \\\n",
       "19  81210100041  /project/pi_cjgleason_umass_edu/swot_planet/un...   \n",
       "\n",
       "    cloud_cover                                     pred_raster_fp  \\\n",
       "19          0.0  tiled_planet_predicted_merged/81210100041.0--2...   \n",
       "\n",
       "    reach_len_full  reach_len_raster_bound  reach_len_pred_bound  \\\n",
       "19     16599.78875            16674.526148          16364.440832   \n",
       "\n",
       "    num_water_px  perc_water_px  water_area  sword_width  diff_raster_pred_len  \n",
       "19       3470523       0.141685    31234707       1887.0            310.085316  "
      ]
     },
     "execution_count": 7,
     "metadata": {},
     "output_type": "execute_result"
    }
   ],
   "source": [
    "fp = \"81210100041.0--23810af8-d590-44e5-8d82-401a7170e44f--PSScene--20240922_223015_38_24fd_3B_AnalyticMS_SR_clip.tif\"\n",
    "planet_fp = os.path.join(\"/project/pi_cjgleason_umass_edu/swot_planet/unit/\", \"/\".join(fp.split(\"--\")))\n",
    "assert os.path.exists(planet_fp)\n",
    "all_planet_widths[all_planet_widths[\"planet_fp\"]==planet_fp]\n"
   ]
  },
  {
   "cell_type": "code",
   "execution_count": 8,
   "id": "481de427",
   "metadata": {},
   "outputs": [
    {
     "data": {
      "text/plain": [
       "(306, 2)"
      ]
     },
     "execution_count": 8,
     "metadata": {},
     "output_type": "execute_result"
    }
   ],
   "source": [
    "sword_widths = all_planet_widths[[\"reach_id\", \"sword_width\"]]\n",
    "sword_widths = sword_widths.groupby(\"reach_id\").mean().reset_index()\n",
    "sword_widths = sword_widths[sword_widths[\"sword_width\"]>0]\n",
    "sword_widths.shape"
   ]
  },
  {
   "cell_type": "code",
   "execution_count": 9,
   "id": "eaf890c9",
   "metadata": {},
   "outputs": [
    {
     "data": {
      "text/plain": [
       "(306, 4)"
      ]
     },
     "execution_count": 9,
     "metadata": {},
     "output_type": "execute_result"
    }
   ],
   "source": [
    "planet_widths = all_planet_widths[[\"reach_id\", \"water_area\", \"reach_len_pred_bound\"]]\n",
    "planet_widths = planet_widths.groupby(\"reach_id\").sum().reset_index()\n",
    "planet_widths[\"effective_width\"] = planet_widths[\"water_area\"]/planet_widths[\"reach_len_pred_bound\"]\n",
    "planet_widths.shape"
   ]
  },
  {
   "cell_type": "code",
   "execution_count": 10,
   "id": "d5f1ffe0",
   "metadata": {},
   "outputs": [],
   "source": [
    "merged_res = planet_widths.merge(sentinel_data_df, how=\"left\", on=\"reach_id\")\n",
    "merged_res = merged_res.merge(sword_widths, how=\"left\", on=\"reach_id\")"
   ]
  },
  {
   "cell_type": "code",
   "execution_count": 11,
   "id": "e6f011c5",
   "metadata": {},
   "outputs": [
    {
     "name": "stdout",
     "output_type": "stream",
     "text": [
      "(3, 6)\n",
      "(306, 6)\n"
     ]
    }
   ],
   "source": [
    "print(merged_res[merged_res[\"sentinel_width\"]>0].shape)\n",
    "print(merged_res[merged_res[\"sword_width\"]>0].shape)"
   ]
  },
  {
   "cell_type": "code",
   "execution_count": 12,
   "id": "b4f8007d",
   "metadata": {},
   "outputs": [
    {
     "data": {
      "text/html": [
       "<div>\n",
       "<style scoped>\n",
       "    .dataframe tbody tr th:only-of-type {\n",
       "        vertical-align: middle;\n",
       "    }\n",
       "\n",
       "    .dataframe tbody tr th {\n",
       "        vertical-align: top;\n",
       "    }\n",
       "\n",
       "    .dataframe thead th {\n",
       "        text-align: right;\n",
       "    }\n",
       "</style>\n",
       "<table border=\"1\" class=\"dataframe\">\n",
       "  <thead>\n",
       "    <tr style=\"text-align: right;\">\n",
       "      <th></th>\n",
       "      <th>reach_id</th>\n",
       "      <th>effective_width</th>\n",
       "      <th>sentinel_width</th>\n",
       "      <th>sword_width</th>\n",
       "    </tr>\n",
       "  </thead>\n",
       "  <tbody>\n",
       "    <tr>\n",
       "      <th>216</th>\n",
       "      <td>81270501211</td>\n",
       "      <td>610.489074</td>\n",
       "      <td>610.509556</td>\n",
       "      <td>573.0</td>\n",
       "    </tr>\n",
       "    <tr>\n",
       "      <th>228</th>\n",
       "      <td>81280500401</td>\n",
       "      <td>182.476834</td>\n",
       "      <td>262.720204</td>\n",
       "      <td>190.0</td>\n",
       "    </tr>\n",
       "    <tr>\n",
       "      <th>259</th>\n",
       "      <td>81293000121</td>\n",
       "      <td>626.159260</td>\n",
       "      <td>476.620499</td>\n",
       "      <td>438.0</td>\n",
       "    </tr>\n",
       "  </tbody>\n",
       "</table>\n",
       "</div>"
      ],
      "text/plain": [
       "        reach_id  effective_width  sentinel_width  sword_width\n",
       "216  81270501211       610.489074      610.509556        573.0\n",
       "228  81280500401       182.476834      262.720204        190.0\n",
       "259  81293000121       626.159260      476.620499        438.0"
      ]
     },
     "execution_count": 12,
     "metadata": {},
     "output_type": "execute_result"
    }
   ],
   "source": [
    "merged_res[merged_res[\"sentinel_width\"]>0][[\"reach_id\", \"effective_width\",\t\"sentinel_width\",\t\"sword_width\",]]"
   ]
  },
  {
   "cell_type": "code",
   "execution_count": 15,
   "id": "8d2594a5",
   "metadata": {},
   "outputs": [
    {
     "data": {
      "text/plain": [
       "(122.10510375561931,\n",
       " 46.80916641482111,\n",
       " -84.5692038919577,\n",
       " -0.10060714725052183)"
      ]
     },
     "execution_count": 15,
     "metadata": {},
     "output_type": "execute_result"
    }
   ],
   "source": [
    "EPS=1e-6\n",
    "mae = (merged_res[\"effective_width\"]-merged_res[\"sword_width\"]).abs().mean()\n",
    "median_abs = (merged_res[\"effective_width\"]-merged_res[\"sword_width\"]).abs().median()\n",
    "bias = -(merged_res[\"effective_width\"]-merged_res[\"sword_width\"]).mean()\n",
    "perc_bias = (-(merged_res[\"effective_width\"]-merged_res[\"sword_width\"])/(merged_res[\"effective_width\"]+EPS)).mean()\n",
    "\n",
    "mae, median_abs, bias, perc_bias"
   ]
  },
  {
   "cell_type": "code",
   "execution_count": 14,
   "id": "a08a5011",
   "metadata": {},
   "outputs": [
    {
     "data": {
      "image/png": "[encoded data removed]",
      "text/plain": [
       "<Figure size 400x400 with 1 Axes>"
      ]
     },
     "metadata": {},
     "output_type": "display_data"
    }
   ],
   "source": [
    "import numpy as np\n",
    "import matplotlib.pyplot as plt\n",
    "\n",
    "# ------------------------------------\n",
    "# Configuration ‒ tweak as you like\n",
    "x_columns = ['sword_width',]          # x-axis columns (left➜right)\n",
    "y_column  = 'effective_width'        # shared y-axis\n",
    "colors    = ['tab:blue', 'tab:orange', 'tab:green', 'tab:red']\n",
    "figsize   = (4*len(x_columns), 4)\n",
    "alpha_pts = 0.7                      # scatter opacity\n",
    "line_kw   = dict(color='black', ls='--', lw=1)  # y=x line style\n",
    "# ------------------------------------\n",
    "\n",
    "# Ensure data is in good shape (adjust if you want to keep NaNs)\n",
    "data = merged_res.dropna(subset=x_columns + [y_column])\n",
    "\n",
    "fig, axes = plt.subplots(1, len(x_columns), figsize=figsize, sharey=True)\n",
    "\n",
    "for ax, x_col, c in zip([axes], x_columns, colors):\n",
    "    # scatter points\n",
    "    ax.scatter(data[x_col], data[y_column], alpha=alpha_pts, color=c)\n",
    "    \n",
    "    # y = x reference line\n",
    "    vmin = min(data[[x_col, y_column]].min())\n",
    "    vmax = max(data[[x_col, y_column]].max())\n",
    "    ax.plot([vmin, 10000], [vmin, 10000], **line_kw)\n",
    "    # ax.set_xlim(vmin, vmax)\n",
    "    # ax.set_ylim(vmin, vmax)\n",
    "    # ax.set_xlim(0, 500)\n",
    "    # ax.set_ylim(0, 500)\n",
    "\n",
    "    # labels & title\n",
    "    ax.set_xlabel(x_col.replace('_', ' ')+\" (m)\", fontsize=15)\n",
    "    # ax.set_title(f'{x_col} vs {y_column}', fontsize=20)\n",
    "    ax.set_aspect('equal', adjustable='box')   # keeps squares looking square\n",
    "\n",
    "# axes[0].set_ylabel(y_column.replace('_', ' ').title(), fontsize=20)\n",
    "axes.set_ylabel(\"Planet Pred Width (m)\", fontsize=15)\n",
    "# fig.tight_layout()\n",
    "fig.tight_layout(rect=[0, 0.05, 1, 1])\n",
    "plt.show()\n"
   ]
  },
  {
   "cell_type": "code",
   "execution_count": null,
   "id": "0e0df47b",
   "metadata": {},
   "outputs": [],
   "source": []
  }
 ],
 "metadata": {
  "kernelspec": {
   "display_name": "ann-ssc",
   "language": "python",
   "name": "python3"
  },
  "language_info": {
   "codemirror_mode": {
    "name": "ipython",
    "version": 3
   },
   "file_extension": ".py",
   "mimetype": "text/x-python",
   "name": "python",
   "nbconvert_exporter": "python",
   "pygments_lexer": "ipython3",
   "version": "3.9.18"
  }
 },
 "nbformat": 4,
 "nbformat_minor": 5
}
